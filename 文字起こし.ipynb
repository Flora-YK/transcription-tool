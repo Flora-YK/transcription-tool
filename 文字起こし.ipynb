{
 "cells": [
  {
   "cell_type": "code",
   "execution_count": null,
   "id": "29a5ea52",
   "metadata": {},
   "outputs": [],
   "source": [
    "# whisperのインストール　\n",
    "#過去にインストール済みであれば実行不要\n",
    "!pip install git+https://github.com/openai/whisper.git"
   ]
  },
  {
   "cell_type": "code",
   "execution_count": null,
   "id": "196ce809",
   "metadata": {},
   "outputs": [],
   "source": [
    "#過去にインストール済みであれば実行不要\n",
    "!pip install pydub\n"
   ]
  },
  {
   "cell_type": "code",
   "execution_count": null,
   "id": "3b57b050",
   "metadata": {},
   "outputs": [],
   "source": [
    "#過去にインストール済みであれば実行不要\n",
    "!pip install openpyxl"
   ]
  },
  {
   "cell_type": "code",
   "execution_count": null,
   "id": "66930627",
   "metadata": {},
   "outputs": [],
   "source": [
    "#過去にインストール済みであれば実行不要\n",
    "pip install ffmpeg-python"
   ]
  },
  {
   "cell_type": "code",
   "execution_count": 1,
   "id": "20ca9338",
   "metadata": {},
   "outputs": [],
   "source": [
    "#音声ファイルの分割の関数\n",
    "#分割間隔は1分で指定しているが、任意で変更可能\n",
    "\n",
    "import os\n",
    "from pydub import AudioSegment\n",
    "import pandas as pd\n",
    "\n",
    "def split_audio_file(file_path, output_folder):\n",
    "    # 入力ファイルの拡張子を取得\n",
    "    file_extension = os.path.splitext(file_path)[1].lower()\n",
    "    file_name = os.path.splitext(os.path.basename(file_path))[0]\n",
    "\n",
    "    # 音声形式に応じて読み込み方法を設定\n",
    "    if file_extension == \".wav\":\n",
    "        audio = AudioSegment.from_wav(file_path)\n",
    "    elif file_extension == \".mp3\":\n",
    "        audio = AudioSegment.from_mp3(file_path)\n",
    "    elif file_extension == \".m4a\":\n",
    "        # .m4aファイルを読み込む\n",
    "        audio = AudioSegment.from_file(file_path, format=\"m4a\")\n",
    "    elif file_extension == \".mp4\":\n",
    "        # .mp4ファイルを読み込む\n",
    "        audio = AudioSegment.from_file(file_path, format=\"mp4\")\n",
    "    else:\n",
    "        raise ValueError(\"サポートされていない音声形式です。\")\n",
    "\n",
    "    # 分割する時間間隔（１分）を取得\n",
    "    split_interval = 1 * 60 * 1000  # ミリ秒単位\n",
    "\n",
    "    # 分割した音声ファイルを保存するフォルダを作成\n",
    "    os.makedirs(output_folder, exist_ok=True)\n",
    "\n",
    "    # 音声ファイルを分割する\n",
    "    for i, start_time in enumerate(range(0, len(audio), split_interval)):\n",
    "        # 分割開始位置と終了位置を計算\n",
    "        end_time = start_time + split_interval\n",
    "\n",
    "        # 音声を分割\n",
    "        split_audio = audio[start_time:end_time]\n",
    "\n",
    "        # 出力ファイル名を作成\n",
    "        output_file = os.path.join(output_folder, f\"{file_name}_{i}{file_extension}\")\n",
    "\n",
    "        # 分割した音声ファイルを保存\n",
    "        if file_extension == \".wav\":\n",
    "            split_audio.export(output_file, format=\"wav\")\n",
    "        elif file_extension == \".mp3\":\n",
    "            split_audio.export(output_file, format=\"mp3\")\n",
    "        elif file_extension == \".m4a\":\n",
    "            # Try encoding to MP4 (AAC) first, then rename to M4A\n",
    "            temp_output_file = os.path.join(output_folder, f\"{file_name}_{i}.mp4\")\n",
    "            split_audio.export(temp_output_file, format=\"mp4\", codec=\"aac\")\n",
    "            output_file = os.path.join(output_folder, f\"{file_name}_{i}.m4a\")\n",
    "            os.rename(temp_output_file, output_file)\n",
    "        elif file_extension == \".mp4\":\n",
    "            split_audio.export(output_file, format=\"mp4\")\n",
    "\n",
    "        print(f\"分割ファイル {output_file} を保存しました。\")\n",
    "\n",
    "\n"
   ]
  },
  {
   "cell_type": "code",
   "execution_count": 2,
   "id": "06039dd3",
   "metadata": {},
   "outputs": [],
   "source": [
    "#文字起こしの関数\n",
    "#文字起こし精度は、tiny / base / small / medium / large から選択。\n",
    "#大きいモデルほど精度が高く、処理時間が長くなる\n",
    "\n",
    "import whisper\n",
    "import os\n",
    "import tkinter.filedialog\n",
    "from pydub import AudioSegment\n",
    "import pandas as pd\n",
    "from openpyxl import Workbook\n",
    "from openpyxl.utils.dataframe import dataframe_to_rows\n",
    "import datetime\n",
    "import ffmpeg\n",
    "\n",
    "\n",
    "def transcribe_audio_files(input_folder, output_excel_file):\n",
    "    # Whisperモデルをロード　\n",
    "    # tiny / base / small / medium / large から精度を選択\n",
    "    model = whisper.load_model(\"large\")\n",
    "    \n",
    "    # フォルダ内の全音声ファイルをリストアップ\n",
    "    file_list = [f for f in os.listdir(input_folder) if f.endswith('.m4a')]\n",
    "\n",
    "    # ソートして順序を確保\n",
    "    file_list.sort(key=lambda x: int(x.split('_')[-1].split('.')[0]))\n",
    "\n",
    "    # データフレームを作成\n",
    "    df = pd.DataFrame(columns=['No', '音声ファイル', '変換結果'])\n",
    "\n",
    "    # 各音声ファイルを文字変換する\n",
    "    for i, file_name in enumerate(file_list):\n",
    "        file_path = os.path.join(input_folder, file_name)\n",
    "        print(f\"変換開始: {file_path}\")\n",
    "\n",
    "        # 文字変換を実施\n",
    "        result = model.transcribe(file_path)\n",
    "        transcription = str(result[\"text\"])\n",
    "        print(f\"変換結果: {transcription}\")\n",
    "        \n",
    "        # 終了時間を記録\n",
    "        end_time = datetime.datetime.now().strftime(\"%Y-%m-%d %H:%M:%S\")\n",
    "        print(f\"終了時間: {end_time}\")\n",
    "\n",
    "        # 結果をデータフレームに追加\n",
    "        df.loc[i] = [i, file_path, transcription]\n",
    "\n",
    "    # Excelへ書き出し\n",
    "    workbook = Workbook()\n",
    "    sheet = workbook.active\n",
    "\n",
    "    # DataFrameの値をシートに書き込む\n",
    "    for r in dataframe_to_rows(df, index=False, header=True):\n",
    "        sheet.append(r)\n",
    "\n",
    "    # ファイルへのリンクをセット\n",
    "    for row in sheet.iter_rows(min_row=2, min_col=2, max_col=2):  # B列の値を処理\n",
    "        cell = row[0]\n",
    "        file_path = cell.value\n",
    "\n",
    "        if file_path:\n",
    "            cell.hyperlink = file_path\n",
    "            cell.value = f'{file_path}'\n",
    "\n",
    "    # Excelファイルを保存\n",
    "    workbook.save(output_excel_file)\n",
    "    print(f\"変換結果を {output_excel_file} に保存しました。\")"
   ]
  },
  {
   "cell_type": "code",
   "execution_count": null,
   "id": "0e2bae65",
   "metadata": {},
   "outputs": [],
   "source": []
  },
  {
   "cell_type": "code",
   "execution_count": 6,
   "id": "4c38aa9f",
   "metadata": {},
   "outputs": [],
   "source": [
    "# 分割する音声のパス指定\n",
    "file_path = \"(音声ファイルのパス)\"  # 元の音声ファイルのパス指定\n",
    "output_folder = \"(出力先ディレクトリのパス)\"  # 分割したファイルの出力先指定"
   ]
  },
  {
   "cell_type": "code",
   "execution_count": null,
   "id": "ff66c77e",
   "metadata": {
    "scrolled": true
   },
   "outputs": [],
   "source": [
    "# 音声ファイルの分割実行\n",
    "split_files = split_audio_file(file_path, output_folder)"
   ]
  },
  {
   "cell_type": "code",
   "execution_count": 8,
   "id": "10a6ad81",
   "metadata": {},
   "outputs": [],
   "source": [
    "# 文字起こしのパス指定\n",
    "input_folder = \"(音声ファイルのパス)\" #元の音声ファイルを格納したフォルダを指定\n",
    "output_excel_file = \"(出力先ディレクトリのパス、ファイル名の指定)\" #出力先のExcelファイルを指定"
   ]
  },
  {
   "cell_type": "code",
   "execution_count": null,
   "id": "19e5e99d",
   "metadata": {
    "scrolled": true
   },
   "outputs": [],
   "source": [
    "# 文字起こしの実行\n",
    "transcribe_audio_files(input_folder, output_excel_file)"
   ]
  },
  {
   "cell_type": "code",
   "execution_count": null,
   "id": "6dc902dd",
   "metadata": {},
   "outputs": [],
   "source": []
  },
  {
   "cell_type": "code",
   "execution_count": null,
   "id": "d203a990",
   "metadata": {},
   "outputs": [],
   "source": []
  },
  {
   "cell_type": "code",
   "execution_count": null,
   "id": "b063d1a3",
   "metadata": {},
   "outputs": [],
   "source": []
  },
  {
   "cell_type": "code",
   "execution_count": null,
   "id": "446f008b",
   "metadata": {},
   "outputs": [],
   "source": [
    "\n"
   ]
  },
  {
   "cell_type": "code",
   "execution_count": null,
   "id": "a1cbbd38",
   "metadata": {},
   "outputs": [],
   "source": []
  },
  {
   "cell_type": "code",
   "execution_count": null,
   "id": "0665a510",
   "metadata": {},
   "outputs": [],
   "source": []
  }
 ],
 "metadata": {
  "kernelspec": {
   "display_name": "Python 3 (ipykernel)",
   "language": "python",
   "name": "python3"
  },
  "language_info": {
   "codemirror_mode": {
    "name": "ipython",
    "version": 3
   },
   "file_extension": ".py",
   "mimetype": "text/x-python",
   "name": "python",
   "nbconvert_exporter": "python",
   "pygments_lexer": "ipython3",
   "version": "3.11.5"
  }
 },
 "nbformat": 4,
 "nbformat_minor": 5
}
